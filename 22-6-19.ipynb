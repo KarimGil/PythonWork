{
 "cells": [
  {
   "cell_type": "code",
   "execution_count": 4,
   "metadata": {},
   "outputs": [
    {
     "name": "stdout",
     "output_type": "stream",
     "text": [
      "hello world\n"
     ]
    }
   ],
   "source": [
    "def greet_user():\n",
    "    print(\"hello world\")\n",
    "    \n",
    "greet_user()"
   ]
  },
  {
   "cell_type": "code",
   "execution_count": 8,
   "metadata": {},
   "outputs": [
    {
     "name": "stdout",
     "output_type": "stream",
     "text": [
      "hello world\n"
     ]
    }
   ],
   "source": [
    "greet_user()"
   ]
  },
  {
   "cell_type": "code",
   "execution_count": 18,
   "metadata": {},
   "outputs": [
    {
     "name": "stdout",
     "output_type": "stream",
     "text": [
      "9\n"
     ]
    }
   ],
   "source": [
    "def mult(a,b):\n",
    "    c=a*b\n",
    "    print(c)\n",
    "mult(3,3)"
   ]
  },
  {
   "cell_type": "code",
   "execution_count": 15,
   "metadata": {},
   "outputs": [
    {
     "name": "stdout",
     "output_type": "stream",
     "text": [
      "12\n"
     ]
    }
   ],
   "source": [
    "mult(3,4)"
   ]
  },
  {
   "cell_type": "code",
   "execution_count": 17,
   "metadata": {},
   "outputs": [
    {
     "name": "stdout",
     "output_type": "stream",
     "text": [
      "25\n"
     ]
    }
   ],
   "source": [
    "mult(5,5)"
   ]
  },
  {
   "cell_type": "code",
   "execution_count": 19,
   "metadata": {},
   "outputs": [
    {
     "name": "stdout",
     "output_type": "stream",
     "text": [
      "8\n"
     ]
    }
   ],
   "source": [
    "def add(a,b):\n",
    "    c=a+b\n",
    "    print(c)\n",
    "add(5,3)"
   ]
  },
  {
   "cell_type": "code",
   "execution_count": 20,
   "metadata": {},
   "outputs": [
    {
     "name": "stdout",
     "output_type": "stream",
     "text": [
      "1.6666666666666667\n"
     ]
    }
   ],
   "source": [
    "def divide(a,b):\n",
    "    c=a/b\n",
    "    print(c)\n",
    "divide(5,3)"
   ]
  },
  {
   "cell_type": "code",
   "execution_count": 21,
   "metadata": {},
   "outputs": [
    {
     "name": "stdout",
     "output_type": "stream",
     "text": [
      "2\n"
     ]
    }
   ],
   "source": [
    "def sub(a,b):\n",
    "    c=a-b\n",
    "    print(c)\n",
    "sub(5,3)"
   ]
  },
  {
   "cell_type": "code",
   "execution_count": 22,
   "metadata": {},
   "outputs": [
    {
     "name": "stdout",
     "output_type": "stream",
     "text": [
      "2\n"
     ]
    }
   ],
   "source": [
    "def remainder(a,b):\n",
    "    c=a%b\n",
    "    print(c)\n",
    "remainder(5,3)"
   ]
  },
  {
   "cell_type": "code",
   "execution_count": 27,
   "metadata": {},
   "outputs": [
    {
     "name": "stdout",
     "output_type": "stream",
     "text": [
      "Karim Aziz Gilani\n"
     ]
    }
   ],
   "source": [
    "def fullName(FN,MN,LN):\n",
    "    print(f'{FN} {MN} {LN}')\n",
    "    \n",
    "    \n",
    "fullName('Karim', 'Aziz', 'Gilani')"
   ]
  },
  {
   "cell_type": "code",
   "execution_count": 32,
   "metadata": {},
   "outputs": [
    {
     "name": "stdout",
     "output_type": "stream",
     "text": [
      "Enter Your First Name:  Karim\n",
      "Enter Your Middle Name:  Aziz\n",
      "Enter Your Last Name:  Gilani\n",
      "Karim Aziz Gilani \n"
     ]
    }
   ],
   "source": [
    "FN = input(\"Enter Your First Name:  \")\n",
    "MN = input(\"Enter Your Middle Name:  \")\n",
    "LN = input(\"Enter Your Last Name:  \")\n",
    "def fullName(a,b,c):\n",
    "    name=FN+' ' + MN + ' ' + LN +' '\n",
    "    print(name)\n",
    "    \n",
    "fullName('FN','MN','LN')"
   ]
  },
  {
   "cell_type": "code",
   "execution_count": 35,
   "metadata": {},
   "outputs": [
    {
     "name": "stdout",
     "output_type": "stream",
     "text": [
      "Enter Your First Name:  Karim\n",
      "Enter Your Middle Name:  Aziz\n",
      "Enter Your Last Name:  Gilani\n",
      "Karim Aziz Gilani\n"
     ]
    }
   ],
   "source": [
    "FN = input(\"Enter Your First Name:  \")\n",
    "MN = input(\"Enter Your Middle Name:  \")\n",
    "LN = input(\"Enter Your Last Name:  \")\n",
    "def fullName(a,b,c):\n",
    "    print(f'{FN} {MN} {LN}')\n",
    "    \n",
    "    \n",
    "fullName('FN','MN','LN')"
   ]
  },
  {
   "cell_type": "code",
   "execution_count": 20,
   "metadata": {},
   "outputs": [
    {
     "name": "stdout",
     "output_type": "stream",
     "text": [
      "Enter Your First Name:  11\n",
      "Enter Your Middle Name:  12\n",
      "Enter Your Last Name:  +\n",
      "23\n"
     ]
    }
   ],
   "source": [
    "num1 = int(input(\"Enter Your First Name:  \"))\n",
    "num2 = int(input(\"Enter Your Middle Name:  \"))\n",
    "op = input(\"Enter Your Last Name:  \")\n",
    "\n",
    "def calculator():\n",
    "    if op == '+':\n",
    "        c = num1 + num2\n",
    "        print(c)\n",
    "    elif op == '-':\n",
    "        c = num1 - num2\n",
    "        print(c)\n",
    "    elif op == '*':\n",
    "        c = num1 * num2\n",
    "        print(c)\n",
    "    else:\n",
    "        c = num1 / num2  \n",
    "        print(c)\n",
    "        \n",
    "calculator()      "
   ]
  },
  {
   "cell_type": "markdown",
   "metadata": {},
   "source": [
    "# DEFAULT PARAMTER"
   ]
  },
  {
   "cell_type": "code",
   "execution_count": 22,
   "metadata": {},
   "outputs": [
    {
     "name": "stdout",
     "output_type": "stream",
     "text": [
      "My name is Karim\n",
      "My age is 21\n",
      "My gender  is male\n"
     ]
    }
   ],
   "source": [
    "def my_info(name, age=21, gender = 'male'):\n",
    "    print(f\"My name is {name}\")\n",
    "    print(f\"My age is {age}\")\n",
    "    print(f\"My gender  is {gender}\")\n",
    "\n",
    "my_info ('Karim')"
   ]
  },
  {
   "cell_type": "code",
   "execution_count": 32,
   "metadata": {},
   "outputs": [
    {
     "name": "stdout",
     "output_type": "stream",
     "text": [
      "Karim Aziz Gilani\n"
     ]
    }
   ],
   "source": [
    "def my_name_is(f_name, l_name, m_name='  '):\n",
    "    if m_name:\n",
    "        full_name= f_name+' '+m_name+' '+l_name\n",
    "    else:\n",
    "        full_name= f_name+'  '+l_name\n",
    "        \n",
    "    return full_name\n",
    "\n",
    "a = my_name_is('Karim', 'Gilani', 'Aziz')\n",
    "print(a)\n",
    "        "
   ]
  },
  {
   "cell_type": "code",
   "execution_count": 33,
   "metadata": {},
   "outputs": [
    {
     "name": "stdout",
     "output_type": "stream",
     "text": [
      "hello, Karim\n",
      "hello, Sami\n",
      "hello, Noor\n",
      "hello, Umair\n"
     ]
    }
   ],
   "source": [
    "def my_friends(names):\n",
    "    for name in names:\n",
    "        greet=\"hello, \" + name\n",
    "        print(greet)\n",
    "        \n",
    "user=['Karim', 'Sami', 'Noor', 'Umair']\n",
    "my_friends(user)"
   ]
  },
  {
   "cell_type": "code",
   "execution_count": null,
   "metadata": {},
   "outputs": [],
   "source": []
  }
 ],
 "metadata": {
  "kernelspec": {
   "display_name": "Python 3",
   "language": "python",
   "name": "python3"
  },
  "language_info": {
   "codemirror_mode": {
    "name": "ipython",
    "version": 3
   },
   "file_extension": ".py",
   "mimetype": "text/x-python",
   "name": "python",
   "nbconvert_exporter": "python",
   "pygments_lexer": "ipython3",
   "version": "3.7.3"
  }
 },
 "nbformat": 4,
 "nbformat_minor": 2
}
